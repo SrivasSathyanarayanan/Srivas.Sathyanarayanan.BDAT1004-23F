{
  "cells": [
    {
      "cell_type": "markdown",
      "id": "c88c67dd",
      "metadata": {
        "id": "c88c67dd"
      },
      "source": [
        "# BDAT 1004 – Data Programming"
      ]
    },
    {
      "cell_type": "markdown",
      "id": "10799b95",
      "metadata": {
        "id": "10799b95"
      },
      "source": [
        "## Submitted by SRIVAS SATHYANARAYANAN"
      ]
    },
    {
      "cell_type": "markdown",
      "id": "ad5b94d3",
      "metadata": {
        "id": "ad5b94d3"
      },
      "source": [
        "### Question 1\n",
        "### What value is displayed when the last expression (a) is evaluated? Explain your answer by indicating what happens in every executed statement"
      ]
    },
    {
      "cell_type": "code",
      "execution_count": null,
      "id": "16452c42",
      "metadata": {
        "id": "16452c42",
        "outputId": "cbd42d01-a80f-4d5c-b594-1a4d0b1c5adb"
      },
      "outputs": [
        {
          "data": {
            "text/plain": [
              "6"
            ]
          },
          "execution_count": 32,
          "metadata": {},
          "output_type": "execute_result"
        }
      ],
      "source": [
        "a = 0\n",
        "def b():\n",
        " global a\n",
        " a = c(a)\n",
        "def c(a):\n",
        " return a + 2\n",
        "b()\n",
        "b()\n",
        "b()\n",
        "a"
      ]
    },
    {
      "cell_type": "markdown",
      "id": "21168f7f",
      "metadata": {
        "id": "21168f7f"
      },
      "source": [
        "Explanation:\n",
        "\n",
        "b(): a's value is 0 so as c(a)=a+2 then  0+2=2 noe global a's value gets changed to 2\n",
        "\n",
        "b(): a's value is 2 now  so as c(a)=a+2 then  2+2=4 now global a's value gets changed to 4\n",
        "\n",
        "b(): a's value is 4 now  so as c(a)=a+2 then  4+2=6 now global a's value gets changed to 6\n",
        "\n",
        "So as in third step a=6 (global value is being changed from 0 to 6 when b() is being executed till last step)"
      ]
    },
    {
      "cell_type": "markdown",
      "id": "bab9c600",
      "metadata": {
        "id": "bab9c600"
      },
      "source": [
        "### Question 2\n",
        "\n",
        "### Function fileLength(), given to you, takes the name of a file as input and returns the length of the file:"
      ]
    },
    {
      "cell_type": "code",
      "execution_count": null,
      "id": "e326c41e",
      "metadata": {
        "id": "e326c41e",
        "outputId": "1ad275be-25ca-4b7a-8fc7-e356367dbd72"
      },
      "outputs": [
        {
          "name": "stdout",
          "output_type": "stream",
          "text": [
            "123\n",
            "123\n"
          ]
        }
      ],
      "source": [
        "def fileLength(fileName):\n",
        "    try:\n",
        "        infile=open(fileName)\n",
        "        data=infile.read()\n",
        "        ln=len(data)\n",
        "        infile.close()\n",
        "        print(ln)\n",
        "    except IOError:\n",
        "        print('File ' + fileName + ' not found.')\n",
        "\n",
        "fileLength('Filelength.txt')\n",
        "fileLength('filelength.txt')\n",
        "\n"
      ]
    },
    {
      "cell_type": "markdown",
      "id": "5c86e673",
      "metadata": {
        "id": "5c86e673"
      },
      "source": [
        "## Question 3\n",
        "\n",
        "### Now write a class named Kangaroo as a subclass of Marsupial that inherits all the attributes of Marsupial and also:\n",
        "### a. extends the Marsupial init constructor to take, as input, the coordinates x and y of the Kangaroo object,\n",
        "### b. supports method jump that takes number values dx and dy as input and moves the kangaroo by dx units along the x-axis and by dy units along the yaxis,  \n",
        "### c. overloads the str operator so it behaves as shown below."
      ]
    },
    {
      "cell_type": "code",
      "execution_count": null,
      "id": "02fdfb05",
      "metadata": {
        "id": "02fdfb05",
        "outputId": "bd87f82b-0941-47fb-d8e0-b048a98a42ff"
      },
      "outputs": [
        {
          "name": "stdout",
          "output_type": "stream",
          "text": [
            "I am a Kangaroo located at co-ordinates (0,0)\n",
            "['doll', 'firetruck', 'kitten']\n",
            "I am a Kangaroo located at co-ordinates (3,0)\n"
          ]
        }
      ],
      "source": [
        "class Marsupial:\n",
        "    def __init__(self):\n",
        "        self.myLst = []\n",
        "\n",
        "    def put_in_pouch(self,item):\n",
        "        self.myLst.append(item)\n",
        "\n",
        "    def pouch_contents(self):\n",
        "        return self.myLst\n",
        "\n",
        "class Kangaroo(Marsupial):\n",
        "    def __init__(self,x,y):\n",
        "        Marsupial.__init__(self)\n",
        "        self.x = x\n",
        "        self.y = y\n",
        "\n",
        "    def jump(self,dx,dy):\n",
        "        self.x += dx\n",
        "        self.y += dy\n",
        "\n",
        "    def __str__(self):\n",
        "        return 'I am a Kangaroo located at co-ordinates ({},{})'.format(self.x,self.y)\n",
        "\n",
        "\n",
        "m = Marsupial()\n",
        "m.put_in_pouch('doll')\n",
        "m.put_in_pouch('firetruck')\n",
        "m.put_in_pouch('kitten')\n",
        "m.pouch_contents()\n",
        "\n",
        "k = Kangaroo(0,0)\n",
        "print(k)\n",
        "\n",
        "k.put_in_pouch('doll')\n",
        "k.put_in_pouch('firetruck')\n",
        "k.put_in_pouch('kitten')\n",
        "km=k.pouch_contents()\n",
        "print(km)\n",
        "\n",
        "k.jump(1,0)\n",
        "k.jump(1,0)\n",
        "k.jump(1,0)\n",
        "\n",
        "print(k)"
      ]
    },
    {
      "cell_type": "markdown",
      "id": "371f41d7",
      "metadata": {
        "id": "371f41d7"
      },
      "source": [
        "### Question 4\n",
        "### Write function collatz() that takes a positive integer x as input and prints the Collatz sequence starting at x."
      ]
    },
    {
      "cell_type": "code",
      "execution_count": null,
      "id": "30446c3c",
      "metadata": {
        "id": "30446c3c",
        "outputId": "e85e7edb-8da8-4a16-a561-c89c3152a633"
      },
      "outputs": [
        {
          "name": "stdout",
          "output_type": "stream",
          "text": [
            "collatz(1)\n",
            "1\n",
            "\n",
            "collatz(10)\n",
            "10\n",
            "5\n",
            "16\n",
            "8\n",
            "4\n",
            "2\n",
            "1\n"
          ]
        }
      ],
      "source": [
        "def collatz(x):\n",
        "    if x == 1:\n",
        "        return [x]\n",
        "    elif x%2==0:\n",
        "        return [x] + collatz(int(x/2))\n",
        "    else:\n",
        "        return [x] + collatz(int(x*3+1))\n",
        "\n",
        "y=collatz(1)\n",
        "z=collatz(10)\n",
        "print(\"collatz(1)\")\n",
        "print(*y,sep = \"\\n\")\n",
        "print(\"\\ncollatz(10)\")\n",
        "print(*z, sep = \"\\n\")"
      ]
    },
    {
      "cell_type": "markdown",
      "id": "dce1529d",
      "metadata": {
        "id": "dce1529d"
      },
      "source": [
        "## Question 5\n",
        "### Write a recursive method binary() that takes a non-negative integer n and prints the binary representation of integer n"
      ]
    },
    {
      "cell_type": "code",
      "execution_count": null,
      "id": "f6660a8b",
      "metadata": {
        "id": "f6660a8b",
        "outputId": "2c52e5a1-87a0-4a52-f916-1dc6d2f39e81"
      },
      "outputs": [
        {
          "name": "stdout",
          "output_type": "stream",
          "text": [
            "Enter your Number: 9\n",
            "1001"
          ]
        }
      ],
      "source": [
        "def binary(n):\n",
        "    if n == 0:\n",
        "        return 0\n",
        "    else:\n",
        "        binary(n//2)\n",
        "    print(n % 2,end = '')\n",
        "\n",
        "Nbr = int(input(\"Enter your Number: \"))\n",
        "binary(Nbr)\n"
      ]
    },
    {
      "cell_type": "markdown",
      "id": "3a75baa7",
      "metadata": {
        "id": "3a75baa7"
      },
      "source": [
        "### Question 6\n",
        "### Implement a class named HeadingParser that can be used to parse an HTML document, and retrieve and print all the headings in the document."
      ]
    },
    {
      "cell_type": "code",
      "execution_count": null,
      "id": "255ac966",
      "metadata": {
        "id": "255ac966"
      },
      "outputs": [],
      "source": [
        "from html.parser import HTMLParser\n",
        "\n",
        "class HeadingParser(HTMLParser):\n",
        "    Headers = [\"h1\", \"h2\"]\n",
        "    current = -1\n",
        "\n",
        "    def handle_starttag(self, tag, attrs):\n",
        "        if tag in HeadingParser.Headers:\n",
        "            HeadingParser.current = HeadingParser.Headers.index(tag)\n",
        "\n",
        "    def handle_endtag(self, tag):\n",
        "        if tag == HeadingParser.Headers[HeadingParser.current]:\n",
        "            HeadingParser.current = -1\n",
        "\n",
        "    def handle_data(self, data):\n",
        "        if HeadingParser.current >= 0:\n",
        "            print(\" \" * HeadingParser.current + data)"
      ]
    },
    {
      "cell_type": "code",
      "execution_count": null,
      "id": "2f682544",
      "metadata": {
        "scrolled": true,
        "id": "2f682544",
        "outputId": "32ef45cc-40a0-43de-e9d8-2a9c7325aa09"
      },
      "outputs": [
        {
          "name": "stdout",
          "output_type": "stream",
          "text": [
            "W3C Mission\n",
            " Principles\n"
          ]
        }
      ],
      "source": [
        "infile = open(\"w3c.html\",\"r\")\n",
        "content = infile.read()\n",
        "infile.close()\n",
        "hp = HeadingParser()\n",
        "hp.feed(content)\n",
        "\n"
      ]
    },
    {
      "cell_type": "markdown",
      "id": "606ab211",
      "metadata": {
        "id": "606ab211"
      },
      "source": [
        "### --------------------------------------------------------------------------------------------------------------------------------------------------------------\n"
      ]
    },
    {
      "cell_type": "code",
      "execution_count": null,
      "id": "f2ea6e8d",
      "metadata": {
        "id": "f2ea6e8d",
        "outputId": "2685e10a-b975-4bf7-b22f-405891b1f4ad"
      },
      "outputs": [
        {
          "data": {
            "text/plain": [
              "<sqlite3.Cursor at 0x1e7f03423b0>"
            ]
          },
          "execution_count": 19,
          "metadata": {},
          "output_type": "execute_result"
        }
      ],
      "source": [
        "import sqlite3\n",
        "con = sqlite3.connect('ipydb.db')\n",
        "cur = con.cursor()\n",
        "cur.execute(\"CREATE TABLE cityWeather (City text, Country text, Season text,Temperature float,Rainfall float)\")\n"
      ]
    },
    {
      "cell_type": "code",
      "execution_count": null,
      "id": "c005b6d5",
      "metadata": {
        "id": "c005b6d5",
        "outputId": "7ba051d5-b143-4235-f970-dc16d6187a5c"
      },
      "outputs": [
        {
          "data": {
            "text/plain": [
              "<sqlite3.Cursor at 0x1e7f03423b0>"
            ]
          },
          "execution_count": 20,
          "metadata": {},
          "output_type": "execute_result"
        }
      ],
      "source": [
        "cur.execute(\"INSERT INTO cityWeather VALUES ('Mumbai', 'India', 'Winter',24.8,5.9)\")"
      ]
    },
    {
      "cell_type": "code",
      "execution_count": null,
      "id": "0dd13780",
      "metadata": {
        "id": "0dd13780",
        "outputId": "3787dd9f-730d-4c31-dc0f-2ab10d93f984"
      },
      "outputs": [
        {
          "data": {
            "text/plain": [
              "<sqlite3.Cursor at 0x1e7f03423b0>"
            ]
          },
          "execution_count": 21,
          "metadata": {},
          "output_type": "execute_result"
        }
      ],
      "source": [
        "cur.execute(\"INSERT INTO cityWeather VALUES ('Mumbai', 'India', 'Spring',28.4,16.2)\")\n",
        "cur.execute(\"INSERT INTO cityWeather VALUES ('Mumbai', 'India', 'Summer',27.9,1549.4 )\")\n",
        "cur.execute(\"INSERT INTO cityWeather VALUES ('Mumbai', 'India', 'Fall',27.6,346.0)\")\n",
        "cur.execute(\"INSERT INTO cityWeather VALUES ('London', 'United Kingdom', 'Winter',4.2,207.7 )\")\n",
        "cur.execute(\"INSERT INTO cityWeather VALUES ('London', 'United Kingdom', 'Spring',8.3,169.6)\")\n",
        "cur.execute(\"INSERT INTO cityWeather VALUES ('London', 'United Kingdom', 'Summer',15.7,157.0)\")\n",
        "cur.execute(\"INSERT INTO cityWeather VALUES ('London', 'United Kingdom', 'Fall',10.4,218.5)\")\n",
        "cur.execute(\"INSERT INTO cityWeather VALUES ('Cairo', 'Egypt', 'Winter',13.6,16.5)\")\n",
        "cur.execute(\"INSERT INTO cityWeather VALUES ('Cairo', 'Egypt', 'Spring',20.7,6.5)\")\n",
        "cur.execute(\"INSERT INTO cityWeather VALUES ('Cairo', 'Egypt', 'Summer',27.7,0.1)\")\n",
        "cur.execute(\"INSERT INTO cityWeather VALUES ('Cairo', 'Egypt', 'Fall',22.2,4.5)\")"
      ]
    },
    {
      "cell_type": "code",
      "execution_count": null,
      "id": "d4db7fc4",
      "metadata": {
        "id": "d4db7fc4",
        "outputId": "1900d0ea-b9cb-4b9d-8b04-7214a2570f61"
      },
      "outputs": [
        {
          "data": {
            "text/plain": [
              "[('Mumbai', 'India', 'Winter', 24.8, 5.9),\n",
              " ('Mumbai', 'India', 'Spring', 28.4, 16.2),\n",
              " ('Mumbai', 'India', 'Summer', 27.9, 1549.4),\n",
              " ('Mumbai', 'India', 'Fall', 27.6, 346.0),\n",
              " ('London', 'United Kingdom', 'Winter', 4.2, 207.7),\n",
              " ('London', 'United Kingdom', 'Spring', 8.3, 169.6),\n",
              " ('London', 'United Kingdom', 'Summer', 15.7, 157.0),\n",
              " ('London', 'United Kingdom', 'Fall', 10.4, 218.5),\n",
              " ('Cairo', 'Egypt', 'Winter', 13.6, 16.5),\n",
              " ('Cairo', 'Egypt', 'Spring', 20.7, 6.5),\n",
              " ('Cairo', 'Egypt', 'Summer', 27.7, 0.1),\n",
              " ('Cairo', 'Egypt', 'Fall', 22.2, 4.5)]"
            ]
          },
          "execution_count": 22,
          "metadata": {},
          "output_type": "execute_result"
        }
      ],
      "source": [
        "cur.execute('SELECT * FROM cityWeather')\n",
        "cur.fetchall()\n"
      ]
    },
    {
      "cell_type": "markdown",
      "id": "cebdd7d4",
      "metadata": {
        "id": "cebdd7d4"
      },
      "source": [
        "### Question 8\n",
        "### Write SQL queries on the below database table that return:\n",
        "### a) All the temperature data."
      ]
    },
    {
      "cell_type": "code",
      "execution_count": null,
      "id": "1c0d962c",
      "metadata": {
        "id": "1c0d962c",
        "outputId": "8fc4b9d4-ef89-4a1b-87ae-8f42ce111062"
      },
      "outputs": [
        {
          "name": "stdout",
          "output_type": "stream",
          "text": [
            "(24.8,)\n",
            "(28.4,)\n",
            "(27.9,)\n",
            "(27.6,)\n",
            "(4.2,)\n",
            "(8.3,)\n",
            "(15.7,)\n",
            "(10.4,)\n",
            "(13.6,)\n",
            "(20.7,)\n",
            "(27.7,)\n",
            "(22.2,)\n"
          ]
        }
      ],
      "source": [
        "cur.execute('SELECT temperature FROM cityWeather')\n",
        "A=cur.fetchall()\n",
        "for item in A:\n",
        "    print(item)"
      ]
    },
    {
      "cell_type": "markdown",
      "id": "cbad4d5e",
      "metadata": {
        "id": "cbad4d5e"
      },
      "source": [
        "### b) All the cities, but without repetition.\n"
      ]
    },
    {
      "cell_type": "code",
      "execution_count": null,
      "id": "0b6db729",
      "metadata": {
        "id": "0b6db729",
        "outputId": "6a0f5812-1a13-44b3-8052-694eac036816"
      },
      "outputs": [
        {
          "name": "stdout",
          "output_type": "stream",
          "text": [
            "('Mumbai',)\n",
            "('London',)\n",
            "('Cairo',)\n"
          ]
        }
      ],
      "source": [
        "cur.execute('SELECT DISTINCT City FROM cityWeather')\n",
        "B=cur.fetchall()\n",
        "for item in B:\n",
        "    print(item)"
      ]
    },
    {
      "cell_type": "markdown",
      "id": "46ab2b24",
      "metadata": {
        "id": "46ab2b24"
      },
      "source": [
        "### c) All the records for India."
      ]
    },
    {
      "cell_type": "code",
      "execution_count": null,
      "id": "82009942",
      "metadata": {
        "id": "82009942",
        "outputId": "7bcbccff-ef11-4d55-ae71-3b709b51d071"
      },
      "outputs": [
        {
          "name": "stdout",
          "output_type": "stream",
          "text": [
            "('Mumbai', 'India', 'Winter', 24.8, 5.9)\n",
            "('Mumbai', 'India', 'Spring', 28.4, 16.2)\n",
            "('Mumbai', 'India', 'Summer', 27.9, 1549.4)\n",
            "('Mumbai', 'India', 'Fall', 27.6, 346.0)\n"
          ]
        }
      ],
      "source": [
        "cur.execute(\"SELECT * FROM cityWeather WHERE Country='India'\")\n",
        "C=cur.fetchall()\n",
        "for item in C:\n",
        "    print(item)\n"
      ]
    },
    {
      "cell_type": "markdown",
      "id": "7ed16709",
      "metadata": {
        "id": "7ed16709"
      },
      "source": [
        "### d) All the Fall records."
      ]
    },
    {
      "cell_type": "code",
      "execution_count": null,
      "id": "003df681",
      "metadata": {
        "id": "003df681",
        "outputId": "f3119e0e-48f3-4052-ff0f-928c818ba8c2"
      },
      "outputs": [
        {
          "name": "stdout",
          "output_type": "stream",
          "text": [
            "('Mumbai', 'India', 'Fall', 27.6, 346.0)\n",
            "('London', 'United Kingdom', 'Fall', 10.4, 218.5)\n",
            "('Cairo', 'Egypt', 'Fall', 22.2, 4.5)\n"
          ]
        }
      ],
      "source": [
        "cur.execute(\"SELECT * FROM cityWeather WHERE Season='Fall'\")\n",
        "D=cur.fetchall()\n",
        "for item in D:\n",
        "    print(item)"
      ]
    },
    {
      "cell_type": "markdown",
      "id": "a75b8fbd",
      "metadata": {
        "id": "a75b8fbd"
      },
      "source": [
        "### e) The city, country, and season for which the average rainfall is between 200 and 400 millimeters.\n"
      ]
    },
    {
      "cell_type": "code",
      "execution_count": null,
      "id": "78ca1384",
      "metadata": {
        "id": "78ca1384",
        "outputId": "1c09b87a-aaff-484c-b8bc-be98e15f76a8"
      },
      "outputs": [
        {
          "name": "stdout",
          "output_type": "stream",
          "text": [
            "('Mumbai', 'India', 'Fall')\n",
            "('London', 'United Kingdom', 'Winter')\n",
            "('London', 'United Kingdom', 'Fall')\n"
          ]
        }
      ],
      "source": [
        "cur.execute(\"SELECT City,country,Season FROM cityWeather WHERE Rainfall BETWEEN 200 AND 400\")\n",
        "E=cur.fetchall()\n",
        "for item in E:\n",
        "    print(item)"
      ]
    },
    {
      "cell_type": "markdown",
      "id": "97fca7ea",
      "metadata": {
        "id": "97fca7ea"
      },
      "source": [
        "### f) The city and country for which the average Fall temperature is above 20 degrees, in increasing temperature order."
      ]
    },
    {
      "cell_type": "code",
      "execution_count": null,
      "id": "242eb4d2",
      "metadata": {
        "id": "242eb4d2",
        "outputId": "8a89f2ad-842f-4d1e-cbbe-6944f9969233"
      },
      "outputs": [
        {
          "name": "stdout",
          "output_type": "stream",
          "text": [
            "('Cairo', 'Egypt')\n",
            "('Mumbai', 'India')\n"
          ]
        }
      ],
      "source": [
        "cur.execute(\"SELECT City,country FROM cityWeather WHERE Season='Fall' AND temperature > 20 ORDER BY temperature ASC\")\n",
        "F=cur.fetchall()\n",
        "for item in F:\n",
        "    print(item)"
      ]
    },
    {
      "cell_type": "markdown",
      "id": "c8057895",
      "metadata": {
        "id": "c8057895"
      },
      "source": [
        "### g) The total annual rainfall for Cairo\n"
      ]
    },
    {
      "cell_type": "code",
      "execution_count": null,
      "id": "39718586",
      "metadata": {
        "id": "39718586",
        "outputId": "dad59105-aa00-4949-fd32-940294368dac"
      },
      "outputs": [
        {
          "name": "stdout",
          "output_type": "stream",
          "text": [
            "(27.6,)\n"
          ]
        }
      ],
      "source": [
        "cur.execute(\"SELECT SUM(Rainfall) FROM cityWeather WHERE City='Cairo'\")\n",
        "G=cur.fetchall()\n",
        "for item in G:\n",
        "    print(item)"
      ]
    },
    {
      "cell_type": "markdown",
      "id": "b78974fa",
      "metadata": {
        "id": "b78974fa"
      },
      "source": [
        "# h) The total rainfall for each season."
      ]
    },
    {
      "cell_type": "code",
      "execution_count": null,
      "id": "88982e80",
      "metadata": {
        "id": "88982e80",
        "outputId": "fa5fb8bc-668d-44b2-d5a1-75c8dc211925"
      },
      "outputs": [
        {
          "name": "stdout",
          "output_type": "stream",
          "text": [
            "(569.0,)\n",
            "(192.29999999999998,)\n",
            "(1706.5,)\n",
            "(230.1,)\n"
          ]
        }
      ],
      "source": [
        "cur.execute(\"SELECT SUM(Rainfall) FROM cityWeather GROUP BY Season\")\n",
        "H=cur.fetchall()\n",
        "for item in H:\n",
        "    print(item)"
      ]
    },
    {
      "cell_type": "markdown",
      "id": "e58c4fcf",
      "metadata": {
        "id": "e58c4fcf"
      },
      "source": [
        "###  Question 9\n",
        "### Suppose list words is defined as follows: words = ['The', 'quick', 'brown', 'fox', 'jumps', 'over', 'the', 'lazy', 'dog'] Write list comprehension expressions that use list words and generate the following lists:"
      ]
    },
    {
      "cell_type": "code",
      "execution_count": null,
      "id": "70ecaa58",
      "metadata": {
        "id": "70ecaa58"
      },
      "outputs": [],
      "source": [
        "words = ['The', 'quick', 'brown', 'fox', 'jumps', 'over','the', 'lazy', 'dog']"
      ]
    },
    {
      "cell_type": "markdown",
      "id": "df6d5619",
      "metadata": {
        "id": "df6d5619"
      },
      "source": [
        "### a)"
      ]
    },
    {
      "cell_type": "code",
      "execution_count": null,
      "id": "caca6bb5",
      "metadata": {
        "id": "caca6bb5",
        "outputId": "cc3c6074-4ad9-444e-c267-464263f91a71"
      },
      "outputs": [
        {
          "name": "stdout",
          "output_type": "stream",
          "text": [
            "['THE', 'QUICK', 'BROWN', 'FOX', 'JUMPS', 'OVER', 'THE', 'LAZY', 'DOG']\n"
          ]
        }
      ],
      "source": [
        "a = [elements.upper() for elements in words]\n",
        "print (a)\n"
      ]
    },
    {
      "cell_type": "markdown",
      "id": "78aa1a42",
      "metadata": {
        "id": "78aa1a42"
      },
      "source": [
        "### b)"
      ]
    },
    {
      "cell_type": "code",
      "execution_count": null,
      "id": "7a1b833c",
      "metadata": {
        "id": "7a1b833c",
        "outputId": "c87a1093-2038-4021-e783-d64d6120cb48"
      },
      "outputs": [
        {
          "name": "stdout",
          "output_type": "stream",
          "text": [
            "['the', 'quick', 'brown', 'fox', 'jumps', 'over', 'the', 'lazy', 'dog']\n"
          ]
        }
      ],
      "source": [
        "b = [elements.lower() for elements in words]\n",
        "print(b)"
      ]
    },
    {
      "cell_type": "markdown",
      "id": "55232db1",
      "metadata": {
        "id": "55232db1"
      },
      "source": [
        "### c)"
      ]
    },
    {
      "cell_type": "code",
      "execution_count": null,
      "id": "7821aaad",
      "metadata": {
        "id": "7821aaad",
        "outputId": "ffaab34f-ba0b-43e7-ab38-89de775f9b18"
      },
      "outputs": [
        {
          "name": "stdout",
          "output_type": "stream",
          "text": [
            "[3, 5, 5, 3, 5, 4, 3, 4, 3]\n"
          ]
        }
      ],
      "source": [
        "c = [len(elements) for elements in words]\n",
        "print(c)\n"
      ]
    },
    {
      "cell_type": "markdown",
      "id": "5765775f",
      "metadata": {
        "id": "5765775f"
      },
      "source": [
        "### d)"
      ]
    },
    {
      "cell_type": "code",
      "execution_count": null,
      "id": "bd14f4af",
      "metadata": {
        "id": "bd14f4af",
        "outputId": "3c24bd25-0d02-440e-e41d-b7a22123dc69"
      },
      "outputs": [
        {
          "name": "stdout",
          "output_type": "stream",
          "text": [
            "[['THE', 'the', 3], ['QUICK', 'quick', 5], ['BROWN', 'brown', 5], ['FOX', 'fox', 3], ['JUMPS', 'jumps', 5], ['OVER', 'over', 4], ['THE', 'the', 3], ['LAZY', 'lazy', 4], ['DOG', 'dog', 3]]\n"
          ]
        }
      ],
      "source": [
        "d = [[elements.upper(),elements.lower(),len(elements)] for elements in words]\n",
        "print(d)"
      ]
    },
    {
      "cell_type": "markdown",
      "id": "1f7c66ae",
      "metadata": {
        "id": "1f7c66ae"
      },
      "source": [
        "### e)"
      ]
    },
    {
      "cell_type": "code",
      "execution_count": null,
      "id": "b7e89e01",
      "metadata": {
        "id": "b7e89e01",
        "outputId": "4efd234f-37c8-4444-8267-7bc4e068e840"
      },
      "outputs": [
        {
          "name": "stdout",
          "output_type": "stream",
          "text": [
            "['quick', 'brown', 'jumps', 'over', 'lazy']\n"
          ]
        }
      ],
      "source": [
        "e = [elements for elements in words if len(elements)>=4]\n",
        "print(e)"
      ]
    }
  ],
  "metadata": {
    "kernelspec": {
      "display_name": "Python 3 (ipykernel)",
      "language": "python",
      "name": "python3"
    },
    "language_info": {
      "codemirror_mode": {
        "name": "ipython",
        "version": 3
      },
      "file_extension": ".py",
      "mimetype": "text/x-python",
      "name": "python",
      "nbconvert_exporter": "python",
      "pygments_lexer": "ipython3",
      "version": "3.9.12"
    },
    "colab": {
      "provenance": []
    }
  },
  "nbformat": 4,
  "nbformat_minor": 5
}